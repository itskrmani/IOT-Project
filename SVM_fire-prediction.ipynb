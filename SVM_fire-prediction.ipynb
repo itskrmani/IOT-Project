{
 "cells": [
  {
   "cell_type": "code",
   "execution_count": 14,
   "id": "a501e75f",
   "metadata": {},
   "outputs": [
    {
     "name": "stdout",
     "output_type": "stream",
     "text": [
      "0.9311475409836065 \t 0.9417278592312311 \t 0.9799550854824688 \t 0.9083845059077257\n",
      "0.9180327868852459 \t 0.9335870696970772 \t 0.965070085224884 \t 0.905729352834616\n",
      "0.9114754098360656 \t 0.9249249804866243 \t 0.9971428571428571 \t 0.8635438257806679\n",
      "0.9278688524590164 \t 0.9360386312853444 \t 0.993521421107628 \t 0.8859006172241466\n",
      "0.9147540983606557 \t 0.9269355855355931 \t 0.969791702007072 \t 0.8899744545999232\n",
      "0.9098360655737705 \t 0.9245967556943167 \t 0.9752786849656422 \t 0.8814502001793401\n",
      "0.9049180327868852 \t 0.9178654559437514 \t 0.977427843803056 \t 0.8684223412064109\n",
      "0.921311475409836 \t 0.9331055743636318 \t 0.9752686856650271 \t 0.8961208377808185\n",
      "0.9147540983606557 \t 0.9243476635483193 \t 0.9910176146010187 \t 0.869284419315379\n",
      "0.9147540983606557 \t 0.9237420792434257 \t 0.9851443001443001 \t 0.8718052042278048\n"
     ]
    }
   ],
   "source": [
    "import pandas as pd\n",
    "from sklearn.linear_model import LogisticRegression\n",
    "from sklearn import svm\n",
    "from sklearn.model_selection import train_test_split\n",
    "from sklearn.metrics import accuracy_score\n",
    "from statistics import mean\n",
    "from sklearn.metrics import confusion_matrix\n",
    "\n",
    "data = pd.read_csv('Algerian_forest_fires.csv', usecols = [\"temp\",\"rel_hum\",\"wind_sp\",\"rain\", \"FFMC\", \"DMC\", \"DC\", \"ISI\", \"class\"])\n",
    "data['class'] = data['class'].str.strip()\n",
    "\n",
    "\n",
    "\n",
    "X = data[[\"temp\",\"rel_hum\",\"wind_sp\",\"rain\", \"FFMC\", \"DMC\", \"DC\", \"ISI\"]]\n",
    "y = data['class']\n",
    "for j in range(0,10):\n",
    "    a_list = list()\n",
    "    f_list = list()\n",
    "    p_list = list()\n",
    "    r_list = list()\n",
    "    for i in range(0,10):\n",
    "        x_train, x_test, y_train, y_test = train_test_split(X, y)\n",
    "\n",
    "        #SVC_class = LogisticRegression()\n",
    "        SVC_class = svm.NuSVC(kernel = 'poly', degree = 2)\n",
    "        SVC_class.fit(x_train, y_train)\n",
    "\n",
    "        y_pred = SVC_class.predict(x_test)\n",
    "        a = confusion_matrix(y_test, y_pred)\n",
    "        p = a[0][0]/(a[0][0] + a[0][1])\n",
    "        r = a[0][0]/(a[0][0] + a[1][0])\n",
    "        f_score = 2 * (p * r) / (p + r)\n",
    "        \n",
    "        p_list.append(p)\n",
    "        r_list.append(r)\n",
    "        f_list.append(f_score)\n",
    "        a_list.append(accuracy_score(y_test, y_pred))\n",
    "    print(mean(a_list), '\\t', mean(f_list), '\\t', mean(p_list), '\\t', mean(r_list))"
   ]
  },
  {
   "cell_type": "code",
   "execution_count": null,
   "id": "fef96965",
   "metadata": {},
   "outputs": [],
   "source": []
  }
 ],
 "metadata": {
  "kernelspec": {
   "display_name": "Python 3",
   "language": "python",
   "name": "python3"
  },
  "language_info": {
   "codemirror_mode": {
    "name": "ipython",
    "version": 3
   },
   "file_extension": ".py",
   "mimetype": "text/x-python",
   "name": "python",
   "nbconvert_exporter": "python",
   "pygments_lexer": "ipython3",
   "version": "3.8.8"
  }
 },
 "nbformat": 4,
 "nbformat_minor": 5
}
